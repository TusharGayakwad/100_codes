{
 "cells": [
  {
   "cell_type": "code",
   "execution_count": null,
   "id": "921b0322-4fa0-4c92-95bb-acf99330fa24",
   "metadata": {},
   "outputs": [],
   "source": [
    "# 16. Find the Fibonacci Series up to Nth Term in Python\n",
    "\n",
    "x=9\n",
    "sum=0\n",
    "temp=1\n",
    "print(\"0\",end=\", \")\n",
    "for i in range(1,x+1):\n",
    "    c=sum+temp\n",
    "    sum=temp\n",
    "    temp=c\n",
    "    print(sum,end=\", \")"
   ]
  }
 ],
 "metadata": {
  "kernelspec": {
   "display_name": "Python 3 (ipykernel)",
   "language": "python",
   "name": "python3"
  },
  "language_info": {
   "codemirror_mode": {
    "name": "ipython",
    "version": 3
   },
   "file_extension": ".py",
   "mimetype": "text/x-python",
   "name": "python",
   "nbconvert_exporter": "python",
   "pygments_lexer": "ipython3",
   "version": "3.9.12"
  }
 },
 "nbformat": 4,
 "nbformat_minor": 5
}
