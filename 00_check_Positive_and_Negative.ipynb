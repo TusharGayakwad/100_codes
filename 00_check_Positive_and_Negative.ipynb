{
 "cells": [
  {
   "cell_type": "code",
   "execution_count": null,
   "id": "cf608fb9-b8d9-4e17-b321-f05ce7adb136",
   "metadata": {},
   "outputs": [],
   "source": [
    "#1.Check if a Number is Positive and Negative in Python\n",
    "\n",
    "x=int(input(\"Enter the num: \"))\n",
    "if x>=0:\n",
    "    print(\"Give num is positive \")\n",
    "else:\n",
    "    print(\"Given num is negetive\")"
   ]
  }
 ],
 "metadata": {
  "kernelspec": {
   "display_name": "Python 3 (ipykernel)",
   "language": "python",
   "name": "python3"
  },
  "language_info": {
   "codemirror_mode": {
    "name": "ipython",
    "version": 3
   },
   "file_extension": ".py",
   "mimetype": "text/x-python",
   "name": "python",
   "nbconvert_exporter": "python",
   "pygments_lexer": "ipython3",
   "version": "3.9.12"
  }
 },
 "nbformat": 4,
 "nbformat_minor": 5
}
