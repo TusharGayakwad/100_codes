{
 "cells": [
  {
   "cell_type": "code",
   "execution_count": null,
   "id": "d8ed4f79-00d2-49ed-8d32-bf4981afd69b",
   "metadata": {},
   "outputs": [],
   "source": [
    "# 25.Replace All 0’s With 1 In A Given Integer using Python\n",
    "\n",
    "n=int(input(\"enter the num:\"))\n",
    "m=str(n)\n",
    "j=m.replace('0','1')\n",
    "print(j)"
   ]
  }
 ],
 "metadata": {
  "kernelspec": {
   "display_name": "Python 3 (ipykernel)",
   "language": "python",
   "name": "python3"
  },
  "language_info": {
   "codemirror_mode": {
    "name": "ipython",
    "version": 3
   },
   "file_extension": ".py",
   "mimetype": "text/x-python",
   "name": "python",
   "nbconvert_exporter": "python",
   "pygments_lexer": "ipython3",
   "version": "3.9.12"
  }
 },
 "nbformat": 4,
 "nbformat_minor": 5
}
