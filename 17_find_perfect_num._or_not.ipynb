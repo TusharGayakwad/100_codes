{
 "cells": [
  {
   "cell_type": "code",
   "execution_count": null,
   "id": "ee3da28d-879a-4ae4-b639-4357a3cdc282",
   "metadata": {},
   "outputs": [],
   "source": [
    "# 17.Check Whether or Not the Number is a Perfect Number in Python\n",
    "\n",
    "n=28\n",
    "fact=0\n",
    "\n",
    "for i in range(1,n):\n",
    "    if n%i==0:\n",
    "        fact=fact+i\n",
    "if n==fact:\n",
    "    print(\"The given number is a perfect num.\")\n",
    "else:\n",
    "    print(\"The given number is not perfect num.\")\n"
   ]
  }
 ],
 "metadata": {
  "kernelspec": {
   "display_name": "Python 3 (ipykernel)",
   "language": "python",
   "name": "python3"
  },
  "language_info": {
   "codemirror_mode": {
    "name": "ipython",
    "version": 3
   },
   "file_extension": ".py",
   "mimetype": "text/x-python",
   "name": "python",
   "nbconvert_exporter": "python",
   "pygments_lexer": "ipython3",
   "version": "3.9.12"
  }
 },
 "nbformat": 4,
 "nbformat_minor": 5
}
