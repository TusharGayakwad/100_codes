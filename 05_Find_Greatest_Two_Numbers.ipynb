{
 "cells": [
  {
   "cell_type": "code",
   "execution_count": null,
   "id": "bf87aa82-c8ef-41b0-bf9d-3529c5928f5a",
   "metadata": {},
   "outputs": [],
   "source": [
    "#Find the Greatest of the Two Numbers\n",
    "\n",
    "x=int(input(\"Enter the First value\"))\n",
    "y=int(input(\"Enter the Secend value\"))\n",
    "\n",
    "if x>y:\n",
    "    print(x)\n",
    "else:\n",
    "    print(y)"
   ]
  }
 ],
 "metadata": {
  "kernelspec": {
   "display_name": "Python 3 (ipykernel)",
   "language": "python",
   "name": "python3"
  },
  "language_info": {
   "codemirror_mode": {
    "name": "ipython",
    "version": 3
   },
   "file_extension": ".py",
   "mimetype": "text/x-python",
   "name": "python",
   "nbconvert_exporter": "python",
   "pygments_lexer": "ipython3",
   "version": "3.9.12"
  }
 },
 "nbformat": 4,
 "nbformat_minor": 5
}
