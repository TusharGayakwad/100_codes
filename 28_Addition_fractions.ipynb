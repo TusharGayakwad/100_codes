{
 "cells": [
  {
   "cell_type": "code",
   "execution_count": null,
   "id": "0d399d92-c518-443e-873c-617d34da679a",
   "metadata": {},
   "outputs": [],
   "source": [
    "# 28.Addition of two fractions\n",
    "\n",
    "a=int(input(\"First fraction numerator:\"))\n",
    "b=int(input(\"First fraction denominator:\"))\n",
    "c=int(input(\"Sec. fraction numerator:\"))\n",
    "d=int(input(\"sec. fraction denominator:\"))\n",
    "print()\n",
    "print(f\"First Fraction:{a}/{b}\\n\",f\"Sec.Fraction:{c}/{d} \")\n",
    "m=((a*d)+(c*b))/(b*d)\n",
    "print()\n",
    "print(\"Addition of fraction first & sec.:\",m)\n"
   ]
  }
 ],
 "metadata": {
  "kernelspec": {
   "display_name": "Python 3 (ipykernel)",
   "language": "python",
   "name": "python3"
  },
  "language_info": {
   "codemirror_mode": {
    "name": "ipython",
    "version": 3
   },
   "file_extension": ".py",
   "mimetype": "text/x-python",
   "name": "python",
   "nbconvert_exporter": "python",
   "pygments_lexer": "ipython3",
   "version": "3.9.12"
  }
 },
 "nbformat": 4,
 "nbformat_minor": 5
}
