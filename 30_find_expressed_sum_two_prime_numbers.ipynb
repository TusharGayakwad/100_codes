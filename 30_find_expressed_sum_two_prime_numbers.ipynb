{
 "cells": [
  {
   "cell_type": "code",
   "execution_count": null,
   "id": "a34fc6df-e2e5-41fa-a6aa-e01ad9947ffe",
   "metadata": {},
   "outputs": [],
   "source": [
    "# 30.Number be expressed as a sum of two prime numbers in python \n",
    "\n",
    "n=int(input(\"enter the num\"))\n",
    "\n",
    "if n==0:\n",
    "    print(\"given num is not a prime num: \",n)\n",
    "\n",
    "lst=[]\n",
    "\n",
    "for i in range(1,n+1):\n",
    "    flag=0\n",
    "    for j in range(1,i+1):\n",
    "        if i%j==0:\n",
    "            flag=flag+1\n",
    "    if flag==2:\n",
    "        lst.append(i)\n",
    "print(lst)\n",
    "a=0\n",
    "for x in lst:\n",
    "    b=0\n",
    "    for y in lst:\n",
    "        if lst[a]+lst[b]==n:\n",
    "            print(lst[a],\"+\",lst[b],\"==\",n)\n",
    "        b=b+1\n",
    "    a=a+1\n",
    "        "
   ]
  }
 ],
 "metadata": {
  "kernelspec": {
   "display_name": "Python 3 (ipykernel)",
   "language": "python",
   "name": "python3"
  },
  "language_info": {
   "codemirror_mode": {
    "name": "ipython",
    "version": 3
   },
   "file_extension": ".py",
   "mimetype": "text/x-python",
   "name": "python",
   "nbconvert_exporter": "python",
   "pygments_lexer": "ipython3",
   "version": "3.9.12"
  }
 },
 "nbformat": 4,
 "nbformat_minor": 5
}
