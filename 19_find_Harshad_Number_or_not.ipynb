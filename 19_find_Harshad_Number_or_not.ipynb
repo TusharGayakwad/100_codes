{
 "cells": [
  {
   "cell_type": "code",
   "execution_count": null,
   "id": "88ec72ee-26a9-4aa9-a3e3-d98130e93c12",
   "metadata": {},
   "outputs": [],
   "source": [
    "# 19.Check Whether or Not a Number is a Harshad Number in Python\n",
    "\n",
    "n=str(input(\"Enter the num\"))\n",
    "sum=0\n",
    "j=0\n",
    "for i in n:\n",
    "    sum=sum+int(n[j])\n",
    "    j=j+1\n",
    "r=int(n)\n",
    "if r%sum==0:\n",
    "    print(f\"Yes {n} is a Harshad Number\")\n",
    "else:\n",
    "    print(f\"Yes {n} is a Harshad Number\")"
   ]
  }
 ],
 "metadata": {
  "kernelspec": {
   "display_name": "Python 3 (ipykernel)",
   "language": "python",
   "name": "python3"
  },
  "language_info": {
   "codemirror_mode": {
    "name": "ipython",
    "version": 3
   },
   "file_extension": ".py",
   "mimetype": "text/x-python",
   "name": "python",
   "nbconvert_exporter": "python",
   "pygments_lexer": "ipython3",
   "version": "3.9.12"
  }
 },
 "nbformat": 4,
 "nbformat_minor": 5
}
