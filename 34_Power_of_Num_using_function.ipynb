{
 "cells": [
  {
   "cell_type": "code",
   "execution_count": 1,
   "id": "b51e0d79-767b-4b87-9cc8-53583b64560c",
   "metadata": {},
   "outputs": [
    {
     "name": "stdin",
     "output_type": "stream",
     "text": [
      "Enter the value 2\n",
      "Enter the power 4\n"
     ]
    },
    {
     "name": "stdout",
     "output_type": "stream",
     "text": [
      "2 to the power 4 is 16\n"
     ]
    }
   ],
   "source": [
    "\n",
    "def power(a, b):\n",
    "    if b != 0:\n",
    "        return a * power(a, b - 1)\n",
    "    else:\n",
    "        return 1\n",
    "    \n",
    "a = int(input(\"Enter the value\"))\n",
    "b = int(input(\"Enter the power\"))\n",
    "print(a, \"to the power\", b, \"is\", power(a, b))\n"
   ]
  },
  {
   "cell_type": "code",
   "execution_count": null,
   "id": "42373767-6c55-4f4a-9748-58b5daaf42d6",
   "metadata": {},
   "outputs": [],
   "source": []
  },
  {
   "cell_type": "code",
   "execution_count": null,
   "id": "3ed7b747-3192-4ad6-ad45-7dc5fdd22c9f",
   "metadata": {},
   "outputs": [],
   "source": []
  },
  {
   "cell_type": "code",
   "execution_count": null,
   "id": "4a0637cf-0dcd-4f86-93aa-0d4b36751719",
   "metadata": {},
   "outputs": [],
   "source": []
  }
 ],
 "metadata": {
  "kernelspec": {
   "display_name": "Python 3 (ipykernel)",
   "language": "python",
   "name": "python3"
  },
  "language_info": {
   "codemirror_mode": {
    "name": "ipython",
    "version": 3
   },
   "file_extension": ".py",
   "mimetype": "text/x-python",
   "name": "python",
   "nbconvert_exporter": "python",
   "pygments_lexer": "ipython3",
   "version": "3.9.12"
  }
 },
 "nbformat": 4,
 "nbformat_minor": 5
}
