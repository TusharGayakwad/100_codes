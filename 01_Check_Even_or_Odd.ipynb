{
 "cells": [
  {
   "cell_type": "code",
   "execution_count": null,
   "id": "5c65ca64-e98c-477b-9f56-fae2c6235874",
   "metadata": {},
   "outputs": [],
   "source": [
    "#Check Whether a Number is Even or Odd in Python\n",
    "\n",
    "x=int(input(\"Enter the num: \"))\n",
    "if x%2==0:\n",
    "    print(\"Give num is Even \")\n",
    "else:\n",
    "    print(\"Given num is Odd\")"
   ]
  }
 ],
 "metadata": {
  "kernelspec": {
   "display_name": "Python 3 (ipykernel)",
   "language": "python",
   "name": "python3"
  },
  "language_info": {
   "codemirror_mode": {
    "name": "ipython",
    "version": 3
   },
   "file_extension": ".py",
   "mimetype": "text/x-python",
   "name": "python",
   "nbconvert_exporter": "python",
   "pygments_lexer": "ipython3",
   "version": "3.9.12"
  }
 },
 "nbformat": 4,
 "nbformat_minor": 5
}
