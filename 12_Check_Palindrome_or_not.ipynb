{
 "cells": [
  {
   "cell_type": "code",
   "execution_count": null,
   "id": "b53abe44-e0a0-43f2-8506-2ffeb7148507",
   "metadata": {},
   "outputs": [],
   "source": [
    "# 12.Check Whether or Not the Number is a Palindrome in Python.\n",
    "\n",
    "a=int(input(\"Enter the Num:\")) # ex- input = 123\n",
    "b=str(a)[::-1]  #using string slicing output = 321\n",
    "c=int(b)\n",
    "\n",
    "if a==c:\n",
    "    print(\"Given num is a Palindrome Num\")\n",
    "else:\n",
    "    print(\"Given num is not a Palindrome Num\")\n"
   ]
  }
 ],
 "metadata": {
  "kernelspec": {
   "display_name": "Python 3 (ipykernel)",
   "language": "python",
   "name": "python3"
  },
  "language_info": {
   "codemirror_mode": {
    "name": "ipython",
    "version": 3
   },
   "file_extension": ".py",
   "mimetype": "text/x-python",
   "name": "python",
   "nbconvert_exporter": "python",
   "pygments_lexer": "ipython3",
   "version": "3.9.12"
  }
 },
 "nbformat": 4,
 "nbformat_minor": 5
}
