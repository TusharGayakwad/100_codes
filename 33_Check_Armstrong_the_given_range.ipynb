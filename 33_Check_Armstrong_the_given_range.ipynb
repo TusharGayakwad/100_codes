{
 "cells": [
  {
   "cell_type": "code",
   "execution_count": null,
   "id": "396c09cc-25d8-4aee-a3c2-cf8ac0ca279f",
   "metadata": {},
   "outputs": [],
   "source": [
    "#Find the Armstrong Numbers between Two Intervals using Python\n",
    "\n",
    "m=int(input(\"Enter the first num :\"))\n",
    "n=int(input(\"Enter the secend num:\"))\n",
    "for c in range(m,n+1):\n",
    "    e=str(c)\n",
    "    d=len(e)\n",
    "    lst=[]\n",
    "    for i in e:\n",
    "        z=int(i)\n",
    "        fact=0\n",
    "        fact=z**d\n",
    "        lst.append(fact)\n",
    "    b=int(e)\n",
    "    sum=0\n",
    "    for j in lst:\n",
    "        sum=sum+j\n",
    "    if (sum==b):\n",
    "        print(f\"{b} is a Armstrong.\")\n",
    "    else :\n",
    "         print(f\"{b} is not a Armstrong.\")"
   ]
  }
 ],
 "metadata": {
  "kernelspec": {
   "display_name": "Python 3 (ipykernel)",
   "language": "python",
   "name": "python3"
  },
  "language_info": {
   "codemirror_mode": {
    "name": "ipython",
    "version": 3
   },
   "file_extension": ".py",
   "mimetype": "text/x-python",
   "name": "python",
   "nbconvert_exporter": "python",
   "pygments_lexer": "ipython3",
   "version": "3.9.12"
  }
 },
 "nbformat": 4,
 "nbformat_minor": 5
}
