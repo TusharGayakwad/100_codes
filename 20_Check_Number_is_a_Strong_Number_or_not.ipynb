{
 "cells": [
  {
   "cell_type": "code",
   "execution_count": 3,
   "id": "087f7ef9-4fc7-47ad-b050-910f0191e64f",
   "metadata": {},
   "outputs": [
    {
     "name": "stdin",
     "output_type": "stream",
     "text": [
      "Enter the num. 577\n"
     ]
    },
    {
     "name": "stdout",
     "output_type": "stream",
     "text": [
      "577 is not a strong num.\n"
     ]
    }
   ],
   "source": [
    "# 20.Check Whether or Not the Number is a Strong Number in Python\n",
    "\n",
    "n=str(input(\"Enter the num.\"))\n",
    "z=int(n)\n",
    "lst=[]\n",
    "\n",
    "for i in n:\n",
    "    a=int(i)\n",
    "    fact=1\n",
    "    for j in range(1,a+1):\n",
    "        fact=fact*j\n",
    "    lst.append(fact)\n",
    "    \n",
    "flag=sum(lst)\n",
    "\n",
    "if flag==z:\n",
    "    print(f\"{n} is strong num.\")\n",
    "\n",
    "else :\n",
    "    print(f\"{n} is not a strong num.\")\n",
    "\n"
   ]
  },
  {
   "cell_type": "code",
   "execution_count": null,
   "id": "821fbc5b-8bfd-47ca-b189-cd9e3e71dc48",
   "metadata": {},
   "outputs": [],
   "source": []
  }
 ],
 "metadata": {
  "kernelspec": {
   "display_name": "Python 3 (ipykernel)",
   "language": "python",
   "name": "python3"
  },
  "language_info": {
   "codemirror_mode": {
    "name": "ipython",
    "version": 3
   },
   "file_extension": ".py",
   "mimetype": "text/x-python",
   "name": "python",
   "nbconvert_exporter": "python",
   "pygments_lexer": "ipython3",
   "version": "3.9.12"
  }
 },
 "nbformat": 4,
 "nbformat_minor": 5
}
