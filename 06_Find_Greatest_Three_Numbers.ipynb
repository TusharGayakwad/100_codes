{
 "cells": [
  {
   "cell_type": "code",
   "execution_count": null,
   "id": "bf26f735-747f-4bdd-a368-f54e3649d77d",
   "metadata": {},
   "outputs": [],
   "source": [
    "#Find the Greatest of the Three Numbers.\n",
    "06_Find_Greatest_Three_Numbers\n",
    "x=int(input(\"Enter the First value X:\"))\n",
    "y=int(input(\"Enter the Secend value Y:\"))\n",
    "z=int(input(\"Enter the Third value Z:\"))\n",
    "\n",
    "if x>y and x>z:\n",
    "    print(x)\n",
    "elif y>x and y>z:\n",
    "    print(y)\n",
    "else :\n",
    "    print(z)"
   ]
  }
 ],
 "metadata": {
  "kernelspec": {
   "display_name": "Python 3 (ipykernel)",
   "language": "python",
   "name": "python3"
  },
  "language_info": {
   "codemirror_mode": {
    "name": "ipython",
    "version": 3
   },
   "file_extension": ".py",
   "mimetype": "text/x-python",
   "name": "python",
   "nbconvert_exporter": "python",
   "pygments_lexer": "ipython3",
   "version": "3.9.12"
  }
 },
 "nbformat": 4,
 "nbformat_minor": 5
}
