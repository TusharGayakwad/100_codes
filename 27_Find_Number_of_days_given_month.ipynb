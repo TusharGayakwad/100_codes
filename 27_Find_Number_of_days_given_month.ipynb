{
 "cells": [
  {
   "cell_type": "code",
   "execution_count": null,
   "id": "d90e6e85-21c6-427e-97ad-4ada6922ad62",
   "metadata": {},
   "outputs": [],
   "source": [
    "# 27.Number of days in a given month of a given year in  Python\n",
    "\n",
    "month=int(input(\"Enter the month in num\"))\n",
    "year=int(input(\"Enter the year in num\"))\n",
    "\n",
    "if ((month == 2) and ((year%400==0) and ((year%4==0) or (year%100==0)))):\n",
    "    print(f\"Number of days in {month} is 29\")\n",
    "\n",
    "elif (month == 2):\n",
    "    print(f\"Number of days in {month} is 28\")\n",
    "\n",
    "elif (month==4,month==6,month==9,month==11):\n",
    "    print(f\"Number of days in {month} is 30\")\n",
    "\n",
    "else:\n",
    "    print(f\"Number of daysin {month} is 31\")\n"
   ]
  }
 ],
 "metadata": {
  "kernelspec": {
   "display_name": "Python 3 (ipykernel)",
   "language": "python",
   "name": "python3"
  },
  "language_info": {
   "codemirror_mode": {
    "name": "ipython",
    "version": 3
   },
   "file_extension": ".py",
   "mimetype": "text/x-python",
   "name": "python",
   "nbconvert_exporter": "python",
   "pygments_lexer": "ipython3",
   "version": "3.9.12"
  }
 },
 "nbformat": 4,
 "nbformat_minor": 5
}
