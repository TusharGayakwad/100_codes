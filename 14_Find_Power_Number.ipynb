{
 "cells": [
  {
   "cell_type": "code",
   "execution_count": null,
   "id": "05f88d13-b076-4dfd-a3e9-d7b3e9c6f8a3",
   "metadata": {},
   "outputs": [],
   "source": [
    "# 14.Find the Power of a Number in Python Language\n",
    "\n",
    "x=int(input(\"Enter the num:\"))\n",
    "y=int(input(\"enter the power:\"))\n",
    "print(x**y)"
   ]
  }
 ],
 "metadata": {
  "kernelspec": {
   "display_name": "Python 3 (ipykernel)",
   "language": "python",
   "name": "python3"
  },
  "language_info": {
   "codemirror_mode": {
    "name": "ipython",
    "version": 3
   },
   "file_extension": ".py",
   "mimetype": "text/x-python",
   "name": "python",
   "nbconvert_exporter": "python",
   "pygments_lexer": "ipython3",
   "version": "3.9.12"
  }
 },
 "nbformat": 4,
 "nbformat_minor": 5
}
