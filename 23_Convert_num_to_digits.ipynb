{
 "cells": [
  {
   "cell_type": "code",
   "execution_count": null,
   "id": "1b5a0469-125d-4011-bf3a-9dc0b4158117",
   "metadata": {},
   "outputs": [],
   "source": [
    "# 23.Number of digits in an integer in Python\n",
    "\n",
    "n=str(input(\"Enter the num(only integer):\"))\n",
    "sum=0\n",
    "for i in n:\n",
    "    r=int(i)\n",
    "    for j in range(0,11):\n",
    "        if j==r:\n",
    "            sum=sum+1\n",
    "print(sum)"
   ]
  }
 ],
 "metadata": {
  "kernelspec": {
   "display_name": "Python 3 (ipykernel)",
   "language": "python",
   "name": "python3"
  },
  "language_info": {
   "codemirror_mode": {
    "name": "ipython",
    "version": 3
   },
   "file_extension": ".py",
   "mimetype": "text/x-python",
   "name": "python",
   "nbconvert_exporter": "python",
   "pygments_lexer": "ipython3",
   "version": "3.9.12"
  }
 },
 "nbformat": 4,
 "nbformat_minor": 5
}
