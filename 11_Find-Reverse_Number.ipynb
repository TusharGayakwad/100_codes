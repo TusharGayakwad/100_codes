{
 "cells": [
  {
   "cell_type": "code",
   "execution_count": null,
   "id": "1da72e3e-ee4a-4125-bce4-5dd115a028be",
   "metadata": {},
   "outputs": [],
   "source": [
    "# 11.Find the Reverse of a Number in Python.\n",
    "\n",
    "a=str(input(\"Enter the num:\"))\n",
    "x=-1\n",
    "for i in a:\n",
    "    print(a[x],end=\"\")\n",
    "    x=x-1"
   ]
  }
 ],
 "metadata": {
  "kernelspec": {
   "display_name": "Python 3 (ipykernel)",
   "language": "python",
   "name": "python3"
  },
  "language_info": {
   "codemirror_mode": {
    "name": "ipython",
    "version": 3
   },
   "file_extension": ".py",
   "mimetype": "text/x-python",
   "name": "python",
   "nbconvert_exporter": "python",
   "pygments_lexer": "ipython3",
   "version": "3.9.12"
  }
 },
 "nbformat": 4,
 "nbformat_minor": 5
}
