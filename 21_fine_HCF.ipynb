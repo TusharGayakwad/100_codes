{
 "cells": [
  {
   "cell_type": "code",
   "execution_count": null,
   "id": "6d952b42-0338-405f-8a5d-1c9f14c9e29b",
   "metadata": {},
   "outputs": [],
   "source": [
    "# 21.HCF of Two Numbers\n",
    "\n",
    "n=36\n",
    "m=60\n",
    "flag=1\n",
    "for i in range(1,min(n,m)):\n",
    "    if n%i==0 and m%i==0:\n",
    "        flag=i\n",
    "print(flag)"
   ]
  }
 ],
 "metadata": {
  "kernelspec": {
   "display_name": "Python 3 (ipykernel)",
   "language": "python",
   "name": "python3"
  },
  "language_info": {
   "codemirror_mode": {
    "name": "ipython",
    "version": 3
   },
   "file_extension": ".py",
   "mimetype": "text/x-python",
   "name": "python",
   "nbconvert_exporter": "python",
   "pygments_lexer": "ipython3",
   "version": "3.9.12"
  }
 },
 "nbformat": 4,
 "nbformat_minor": 5
}
