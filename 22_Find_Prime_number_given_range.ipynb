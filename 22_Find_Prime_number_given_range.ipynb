{
 "cells": [
  {
   "cell_type": "code",
   "execution_count": null,
   "id": "b484c7cc-1a42-43bf-a14e-bb0357e9616d",
   "metadata": {},
   "outputs": [],
   "source": [
    "# 22.Find Prime number between 1 to100\n",
    "\n",
    "for i in range(1,101):\n",
    "    flag=0\n",
    "    for j in range(1,101):\n",
    "        if i%j==0:\n",
    "            flag=flag+1\n",
    "    if flag==2:\n",
    "        print(i,\",\",end=\" \")\n"
   ]
  }
 ],
 "metadata": {
  "kernelspec": {
   "display_name": "Python 3 (ipykernel)",
   "language": "python",
   "name": "python3"
  },
  "language_info": {
   "codemirror_mode": {
    "name": "ipython",
    "version": 3
   },
   "file_extension": ".py",
   "mimetype": "text/x-python",
   "name": "python",
   "nbconvert_exporter": "python",
   "pygments_lexer": "ipython3",
   "version": "3.9.12"
  }
 },
 "nbformat": 4,
 "nbformat_minor": 5
}
