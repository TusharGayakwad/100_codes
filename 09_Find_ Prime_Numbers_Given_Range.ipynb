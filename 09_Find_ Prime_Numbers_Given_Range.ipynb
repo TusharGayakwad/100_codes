{
 "cells": [
  {
   "cell_type": "code",
   "execution_count": null,
   "id": "007249e8-aea1-4ea9-93e9-ed6ce16d3772",
   "metadata": {},
   "outputs": [],
   "source": [
    "#Find the Prime Numbers in a Given Range in Python\n",
    "       \n",
    "x=int(input(\"Enter the first num: \"))\n",
    "y=int(input(\"Enter the Secend num: \"))\n",
    "\n",
    "for i in range(x,y+1):\n",
    "    flag=0\n",
    "    for j in range(1,i+1):\n",
    "        if i%j==0:\n",
    "            flag=flag+1\n",
    "    if flag==2:\n",
    "        print(f\"{i} is a Prime Num\")\n",
    "    else:\n",
    "        print(f\"{i} is not a Prime Num\")\n"
   ]
  }
 ],
 "metadata": {
  "kernelspec": {
   "display_name": "Python 3 (ipykernel)",
   "language": "python",
   "name": "python3"
  },
  "language_info": {
   "codemirror_mode": {
    "name": "ipython",
    "version": 3
   },
   "file_extension": ".py",
   "mimetype": "text/x-python",
   "name": "python",
   "nbconvert_exporter": "python",
   "pygments_lexer": "ipython3",
   "version": "3.9.12"
  }
 },
 "nbformat": 4,
 "nbformat_minor": 5
}
