{
 "cells": [
  {
   "cell_type": "code",
   "execution_count": null,
   "id": "b7d4cee8-b63a-4da4-aac2-cb4af5470488",
   "metadata": {},
   "outputs": [],
   "source": [
    "# 24.How to find area of circle using python ?\n",
    "\n",
    "r= float(input(\"Enter the radius of the circle\"))\n",
    "\n",
    "a= 3.14*r*r\n",
    "\n",
    "print(\"Area of circle= \",a)"
   ]
  }
 ],
 "metadata": {
  "kernelspec": {
   "display_name": "Python 3 (ipykernel)",
   "language": "python",
   "name": "python3"
  },
  "language_info": {
   "codemirror_mode": {
    "name": "ipython",
    "version": 3
   },
   "file_extension": ".py",
   "mimetype": "text/x-python",
   "name": "python",
   "nbconvert_exporter": "python",
   "pygments_lexer": "ipython3",
   "version": "3.9.12"
  }
 },
 "nbformat": 4,
 "nbformat_minor": 5
}
