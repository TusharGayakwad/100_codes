{
 "cells": [
  {
   "cell_type": "code",
   "execution_count": null,
   "id": "32bdcb6a-8b26-4ea7-a9be-120ea18d8038",
   "metadata": {},
   "outputs": [],
   "source": [
    "# 15.Find the Factors of a Number in Python\n",
    "15_Find_Factors_of_Number\n",
    "n=21\n",
    "print(f\"Factors of {n}: \",end=\"\")\n",
    "for i in range(1,n+1):\n",
    "    if n%i==0:\n",
    "        print(i,end=\",\")\n"
   ]
  }
 ],
 "metadata": {
  "kernelspec": {
   "display_name": "Python 3 (ipykernel)",
   "language": "python",
   "name": "python3"
  },
  "language_info": {
   "codemirror_mode": {
    "name": "ipython",
    "version": 3
   },
   "file_extension": ".py",
   "mimetype": "text/x-python",
   "name": "python",
   "nbconvert_exporter": "python",
   "pygments_lexer": "ipython3",
   "version": "3.9.12"
  }
 },
 "nbformat": 4,
 "nbformat_minor": 5
}
