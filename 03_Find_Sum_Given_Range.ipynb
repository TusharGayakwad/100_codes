{
 "cells": [
  {
   "cell_type": "code",
   "execution_count": null,
   "id": "7809eaf2-a0e7-4a01-8c97-b9ebfe858a58",
   "metadata": {},
   "outputs": [],
   "source": [
    "#4.Find the Sum of the Numbers in a Given Range\n",
    "\n",
    "x=int(input(\"Enter the First value\"))\n",
    "y=int(input(\"Enter the Secend value\"))\n",
    "n=0\n",
    "\n",
    "for i in range(x,y+1):\n",
    "    n=n+i\n",
    "print(n)\n"
   ]
  }
 ],
 "metadata": {
  "kernelspec": {
   "display_name": "Python 3 (ipykernel)",
   "language": "python",
   "name": "python3"
  },
  "language_info": {
   "codemirror_mode": {
    "name": "ipython",
    "version": 3
   },
   "file_extension": ".py",
   "mimetype": "text/x-python",
   "name": "python",
   "nbconvert_exporter": "python",
   "pygments_lexer": "ipython3",
   "version": "3.9.12"
  }
 },
 "nbformat": 4,
 "nbformat_minor": 5
}
