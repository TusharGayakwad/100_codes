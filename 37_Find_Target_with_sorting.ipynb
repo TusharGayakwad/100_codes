{
 "cells": [
  {
   "cell_type": "code",
   "execution_count": null,
   "id": "102365f8-c832-40d6-bf9a-d54167f69559",
   "metadata": {},
   "outputs": [],
   "source": [
    "#find the target with the sorting (Leetcode)\n",
    "\n",
    "lst=[]\n",
    "n=int(input(\"Enter the element num\"))\n",
    "for i in range(0,n):\n",
    "    ele=input(\" Enter the num \")\n",
    "    lst.append(ele)\n",
    "print(lst)\n",
    "\n",
    "target=int(input(\"target\"))\n",
    "for j in range(0,len(lst)-1):\n",
    "    a=lst[j]\n",
    "    \n",
    "    for k in range(j+1,len(lst)):\n",
    "        b=lst[k]\n",
    "        if int(a)+int(b)==target:\n",
    "            print(a,b)\n"
   ]
  }
 ],
 "metadata": {
  "kernelspec": {
   "display_name": "Python 3 (ipykernel)",
   "language": "python",
   "name": "python3"
  },
  "language_info": {
   "codemirror_mode": {
    "name": "ipython",
    "version": 3
   },
   "file_extension": ".py",
   "mimetype": "text/x-python",
   "name": "python",
   "nbconvert_exporter": "python",
   "pygments_lexer": "ipython3",
   "version": "3.9.12"
  }
 },
 "nbformat": 4,
 "nbformat_minor": 5
}
