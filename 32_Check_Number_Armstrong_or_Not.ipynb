{
 "cells": [
  {
   "cell_type": "code",
   "execution_count": null,
   "id": "7088cfe6-5366-457d-ad68-e2608242bba7",
   "metadata": {},
   "outputs": [],
   "source": [
    "# 13.Check Whether a Given Number is an Armstrong Number or Not in Python.\n",
    "\n",
    "m=int(input(\"Enter the num:\"))\n",
    "n=str(m)\n",
    "a=len(n)\n",
    "lst=[]\n",
    "for i in n:\n",
    "    z=int(i)\n",
    "    fact=0\n",
    "    fact=z**a\n",
    "    lst.append(fact)\n",
    "b=int(n)\n",
    "sum=0\n",
    "for j in lst:\n",
    "    sum=sum+j\n",
    "if (sum==b):\n",
    "    print(f\"{n} is a Armstrong.\")\n",
    "else:\n",
    "    print(f\"{n} is not a Armstrong.\")\n",
    "    "
   ]
  }
 ],
 "metadata": {
  "kernelspec": {
   "display_name": "Python 3 (ipykernel)",
   "language": "python",
   "name": "python3"
  },
  "language_info": {
   "codemirror_mode": {
    "name": "ipython",
    "version": 3
   },
   "file_extension": ".py",
   "mimetype": "text/x-python",
   "name": "python",
   "nbconvert_exporter": "python",
   "pygments_lexer": "ipython3",
   "version": "3.9.12"
  }
 },
 "nbformat": 4,
 "nbformat_minor": 5
}
