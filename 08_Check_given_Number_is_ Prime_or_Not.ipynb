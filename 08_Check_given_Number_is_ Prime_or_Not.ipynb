{
 "cells": [
  {
   "cell_type": "code",
   "execution_count": null,
   "id": "458eee86-7d95-486b-82e9-6c352e0942e5",
   "metadata": {},
   "outputs": [],
   "source": [
    "# Check Whether a Number is a Prime or Not in Python\n",
    "\n",
    "x=int(input(\"Enter the value X:\"))\n",
    "flag=0\n",
    "\n",
    "for i in range(1,x+1):\n",
    "    if x%i==0:\n",
    "        flag=flag+1\n",
    "if flag==2:\n",
    "    print(f\"{x} is a Prime num.\")\n",
    "else:\n",
    "    print(f\"{x} is not a Prime num.\")\n",
    "\n"
   ]
  }
 ],
 "metadata": {
  "kernelspec": {
   "display_name": "Python 3 (ipykernel)",
   "language": "python",
   "name": "python3"
  },
  "language_info": {
   "codemirror_mode": {
    "name": "ipython",
    "version": 3
   },
   "file_extension": ".py",
   "mimetype": "text/x-python",
   "name": "python",
   "nbconvert_exporter": "python",
   "pygments_lexer": "ipython3",
   "version": "3.9.12"
  }
 },
 "nbformat": 4,
 "nbformat_minor": 5
}
