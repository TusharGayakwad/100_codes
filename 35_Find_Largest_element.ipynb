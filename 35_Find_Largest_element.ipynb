{
 "cells": [
  {
   "cell_type": "code",
   "execution_count": 9,
   "id": "32e5d811-fd70-4c71-bc08-d96fe9d593f5",
   "metadata": {},
   "outputs": [
    {
     "name": "stdout",
     "output_type": "stream",
     "text": [
      "Biggest num of lst: 4\n"
     ]
    }
   ],
   "source": [
    "#Find Largest element in an array using Python\n",
    "#long way\n",
    "\n",
    "lst=[10, 89, 9, 56, 4, 80, 8]\n",
    "a=lst[0]\n",
    "for i in range(len(lst)):\n",
    "    if a<lst[i]:\n",
    "        a=lst[i]\n",
    "print(\"Biggest num of lst:\",a)"
   ]
  },
  {
   "cell_type": "code",
   "execution_count": 13,
   "id": "a5f2f480-5f00-4850-b3dc-c36f41a27f9d",
   "metadata": {},
   "outputs": [
    {
     "name": "stdout",
     "output_type": "stream",
     "text": [
      "89\n"
     ]
    }
   ],
   "source": [
    "#2nd way\n",
    " \n",
    "lst=[10, 89, 9, 56, 4, 80, 8]\n",
    "lst.sort()\n",
    "print(lst[-1])"
   ]
  },
  {
   "cell_type": "code",
   "execution_count": 15,
   "id": "d94f8090-d738-40dd-8ec8-e1e9627f57b5",
   "metadata": {},
   "outputs": [
    {
     "name": "stdout",
     "output_type": "stream",
     "text": [
      "89\n"
     ]
    }
   ],
   "source": [
    "#3rd way\n",
    "\n",
    "lst=[10, 89, 9, 56, 4, 80, 8]\n",
    "print(max(lst))"
   ]
  }
 ],
 "metadata": {
  "kernelspec": {
   "display_name": "Python 3 (ipykernel)",
   "language": "python",
   "name": "python3"
  },
  "language_info": {
   "codemirror_mode": {
    "name": "ipython",
    "version": 3
   },
   "file_extension": ".py",
   "mimetype": "text/x-python",
   "name": "python",
   "nbconvert_exporter": "python",
   "pygments_lexer": "ipython3",
   "version": "3.9.12"
  }
 },
 "nbformat": 4,
 "nbformat_minor": 5
}
