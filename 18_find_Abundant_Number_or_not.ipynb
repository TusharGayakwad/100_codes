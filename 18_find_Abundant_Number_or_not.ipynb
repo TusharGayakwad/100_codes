{
 "cells": [
  {
   "cell_type": "code",
   "execution_count": null,
   "id": "1d178f02-55b4-4d70-ae13-5b59b452d199",
   "metadata": {},
   "outputs": [],
   "source": [
    "# 18.Check Whether or Not the Number is an Abundant Number in Python\n",
    "\n",
    "n=int(input(\"Enter the num:\"))\n",
    "sum=0\n",
    "\n",
    "for i in range(1,n):\n",
    "    if n%i==0:\n",
    "        sum=sum+i\n",
    "if sum>n:\n",
    "    print(f\"{n} It's an abundant number\")\n",
    "else:\n",
    "    print(f\"{n} It's not an abundant number\")\n"
   ]
  }
 ],
 "metadata": {
  "kernelspec": {
   "display_name": "Python 3 (ipykernel)",
   "language": "python",
   "name": "python3"
  },
  "language_info": {
   "codemirror_mode": {
    "name": "ipython",
    "version": 3
   },
   "file_extension": ".py",
   "mimetype": "text/x-python",
   "name": "python",
   "nbconvert_exporter": "python",
   "pygments_lexer": "ipython3",
   "version": "3.9.12"
  }
 },
 "nbformat": 4,
 "nbformat_minor": 5
}
