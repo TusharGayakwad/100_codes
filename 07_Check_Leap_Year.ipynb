{
 "cells": [
  {
   "cell_type": "code",
   "execution_count": null,
   "id": "d90e80c3-6681-42b7-81c5-5ed2914622d4",
   "metadata": {},
   "outputs": [],
   "source": [
    "#Check if a Year is a Leap Year or Not in Python.\n",
    "\n",
    "year=int(input(\"Enter the year:\"))\n",
    "\n",
    "if year%4==0 and year%400 and year%100!=0:\n",
    "    print(f\"{year} is a leep Year.\")\n",
    "else :\n",
    "    print(f\"{year} is not leep Year.\")\n"
   ]
  }
 ],
 "metadata": {
  "kernelspec": {
   "display_name": "Python 3 (ipykernel)",
   "language": "python",
   "name": "python3"
  },
  "language_info": {
   "codemirror_mode": {
    "name": "ipython",
    "version": 3
   },
   "file_extension": ".py",
   "mimetype": "text/x-python",
   "name": "python",
   "nbconvert_exporter": "python",
   "pygments_lexer": "ipython3",
   "version": "3.9.12"
  }
 },
 "nbformat": 4,
 "nbformat_minor": 5
}
