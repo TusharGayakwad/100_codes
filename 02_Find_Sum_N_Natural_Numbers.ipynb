{
 "cells": [
  {
   "cell_type": "code",
   "execution_count": null,
   "id": "34f261d2-2d97-4827-b5ca-2d4f93fa90e3",
   "metadata": {},
   "outputs": [],
   "source": [
    "#Find the Sum of The First N Natural Numbers in Python\n",
    "\n",
    "x=int(input(\"Enter the num:\"))\n",
    "n=0\n",
    "\n",
    "for i in range(0,x+1):\n",
    "    n=n+i\n",
    "print(n)"
   ]
  }
 ],
 "metadata": {
  "kernelspec": {
   "display_name": "Python 3 (ipykernel)",
   "language": "python",
   "name": "python3"
  },
  "language_info": {
   "codemirror_mode": {
    "name": "ipython",
    "version": 3
   },
   "file_extension": ".py",
   "mimetype": "text/x-python",
   "name": "python",
   "nbconvert_exporter": "python",
   "pygments_lexer": "ipython3",
   "version": "3.9.12"
  }
 },
 "nbformat": 4,
 "nbformat_minor": 5
}
