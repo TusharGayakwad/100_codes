{
 "cells": [
  {
   "cell_type": "code",
   "execution_count": null,
   "id": "bf7aa2ae-0287-4fd1-924c-374c98f87697",
   "metadata": {},
   "outputs": [],
   "source": [
    "# 26.Quadrant in which the given co-ordinate lie in Python\n",
    "\n",
    "x=int(input(\"Enter the X-Axis\"))\n",
    "y=int(input(\"Enter the Y-Axis\"))\n",
    "\n",
    "if x>0 and y>0:\n",
    "    print(\"First Quadrant\")\n",
    "elif x<0 and y>0:\n",
    "    print(\"Second Quadrant\")\n",
    "elif x<0 and y<0:\n",
    "    print(\"Third Quadrant\")\n",
    "elif x>0 and y>0:\n",
    "    print(\"Fourth Quadrant\")\n",
    "elif x==0 and y==0:\n",
    "    print(\"Origin Quadrant\")\n",
    "elif x!=0 and y==0:\n",
    "    print(\"x-axis\")\n",
    "else:\n",
    "    print(\"y-axis\")"
   ]
  }
 ],
 "metadata": {
  "kernelspec": {
   "display_name": "Python 3 (ipykernel)",
   "language": "python",
   "name": "python3"
  },
  "language_info": {
   "codemirror_mode": {
    "name": "ipython",
    "version": 3
   },
   "file_extension": ".py",
   "mimetype": "text/x-python",
   "name": "python",
   "nbconvert_exporter": "python",
   "pygments_lexer": "ipython3",
   "version": "3.9.12"
  }
 },
 "nbformat": 4,
 "nbformat_minor": 5
}
