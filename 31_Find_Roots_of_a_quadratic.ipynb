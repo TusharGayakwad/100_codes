{
 "cells": [
  {
   "cell_type": "code",
   "execution_count": null,
   "id": "dfa4bf0f-8f71-452f-8c14-9f65402baa42",
   "metadata": {},
   "outputs": [],
   "source": [
    "# 31.Roots of a quadratic equation in Python\n",
    "\n",
    "import math\n",
    "a,b,c=1,4,4\n",
    "\n",
    "d=math.sqrt((b*b)-(4*a*c))\n",
    "e=2*a\n",
    "\n",
    "root1=((b+d)/e)\n",
    "root2=((b-d)/e)\n",
    "print(\"root first:\",root1,\"and root secend: \",root2)\n"
   ]
  }
 ],
 "metadata": {
  "kernelspec": {
   "display_name": "Python 3 (ipykernel)",
   "language": "python",
   "name": "python3"
  },
  "language_info": {
   "codemirror_mode": {
    "name": "ipython",
    "version": 3
   },
   "file_extension": ".py",
   "mimetype": "text/x-python",
   "name": "python",
   "nbconvert_exporter": "python",
   "pygments_lexer": "ipython3",
   "version": "3.9.12"
  }
 },
 "nbformat": 4,
 "nbformat_minor": 5
}
