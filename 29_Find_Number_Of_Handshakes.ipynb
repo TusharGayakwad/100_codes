{
 "cells": [
  {
   "cell_type": "code",
   "execution_count": null,
   "id": "2db11545-c828-495f-84a8-37ed9575afa1",
   "metadata": {},
   "outputs": [],
   "source": [
    "# 29.Maximum Number Of Handshakes in Python\n",
    "\n",
    "n=int(input(\"Enter the num. of the people: \"))\n",
    "\n",
    "print(\"Number of heandshek: \",int((n*(n-1))/2))"
   ]
  }
 ],
 "metadata": {
  "kernelspec": {
   "display_name": "Python 3 (ipykernel)",
   "language": "python",
   "name": "python3"
  },
  "language_info": {
   "codemirror_mode": {
    "name": "ipython",
    "version": 3
   },
   "file_extension": ".py",
   "mimetype": "text/x-python",
   "name": "python",
   "nbconvert_exporter": "python",
   "pygments_lexer": "ipython3",
   "version": "3.9.12"
  }
 },
 "nbformat": 4,
 "nbformat_minor": 5
}
