{
 "cells": [
  {
   "cell_type": "code",
   "execution_count": 2,
   "id": "428c3942-6eb4-4349-8b26-5025833dfdf7",
   "metadata": {},
   "outputs": [
    {
     "name": "stdout",
     "output_type": "stream",
     "text": [
      "Smallest num of lst: 4\n"
     ]
    }
   ],
   "source": [
    "#Find Smallest element in an array using Python\n",
    "\n",
    "lst = [10, 89, 9, 56, 4, 80, 8]\n",
    "a=lst[0]\n",
    "for i in range(len(lst)):\n",
    "    if a>lst[i]:\n",
    "        a=lst[i]\n",
    "print(\"Smallest num of lst:\",a)"
   ]
  },
  {
   "cell_type": "code",
   "execution_count": 5,
   "id": "bd7aa1df-c534-4c07-a340-e15472f4a517",
   "metadata": {},
   "outputs": [
    {
     "name": "stdout",
     "output_type": "stream",
     "text": [
      "Smallest num of lst: 4\n"
     ]
    }
   ],
   "source": [
    "# 2nd way\n",
    "\n",
    "lst = [10, 89, 9, 56, 4, 80, 8]\n",
    "lst.sort()\n",
    "print(\"Smallest num of lst:\",lst[0])"
   ]
  },
  {
   "cell_type": "code",
   "execution_count": 4,
   "id": "cab24a0e-dc9d-42a7-807b-eedc100e6c5c",
   "metadata": {},
   "outputs": [
    {
     "name": "stdout",
     "output_type": "stream",
     "text": [
      "Smallest num of lst: 4\n"
     ]
    }
   ],
   "source": [
    "# 3rd way\n",
    "\n",
    "lst = [10, 89, 9, 56, 4, 80, 8]\n",
    "print(\"Smallest num of lst:\",min(lst))"
   ]
  },
  {
   "cell_type": "code",
   "execution_count": null,
   "id": "ba0a823a-1173-4388-9b33-e0cc570c8908",
   "metadata": {},
   "outputs": [],
   "source": []
  }
 ],
 "metadata": {
  "kernelspec": {
   "display_name": "Python 3 (ipykernel)",
   "language": "python",
   "name": "python3"
  },
  "language_info": {
   "codemirror_mode": {
    "name": "ipython",
    "version": 3
   },
   "file_extension": ".py",
   "mimetype": "text/x-python",
   "name": "python",
   "nbconvert_exporter": "python",
   "pygments_lexer": "ipython3",
   "version": "3.9.12"
  }
 },
 "nbformat": 4,
 "nbformat_minor": 5
}
